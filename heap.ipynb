{
 "cells": [
  {
   "cell_type": "markdown",
   "metadata": {},
   "source": [
    "# Heap\n",
    "\n",
    "## Heap Property\n",
    "\n",
    "Max-Heap:\n",
    "- The value of a parent node must be greater or equal to the value of all child nodes. \n",
    "  \n",
    "Min-Heap:\n",
    "- The value of a parent node must be less or equal to the value of all child nodes. \n",
    "\n",
    "## Binary Heap\n",
    "\n",
    "Properties:\n",
    "- Complete binary tree (all levels of the tree are filled except lower level nodes which are filled from as left as possible)\n",
    "- Heap property\n",
    "- Parent node at index $i$ => left child $2i+1$ and right child $2i+2$\n",
    "\n",
    "### Operations\n",
    "\n",
    "- Heapify: $O\\log (n)$\n",
    "- Insert: $O\\log (n)$\n",
    "- Deletion: $O\\log (n)$\n",
    "- Get Max/Min: $O(1)$\n",
    "- Search: $O(n)$\n",
    "\n",
    "\n",
    "## Resources\n",
    "https://www.geeksforgeeks.org/heap-data-structure/\n"
   ]
  },
  {
   "cell_type": "code",
   "execution_count": 11,
   "metadata": {},
   "outputs": [
    {
     "name": "stdout",
     "output_type": "stream",
     "text": [
      "1\n"
     ]
    }
   ],
   "source": [
    "import heapq\n",
    "\n",
    "x = [1, 4, 5, 2, 3, 7, 8, 32, 53]\n",
    "y = heapq.heapify(x)\n",
    "print(x[0])"
   ]
  }
 ],
 "metadata": {
  "kernelspec": {
   "display_name": "Python 3",
   "language": "python",
   "name": "python3"
  },
  "language_info": {
   "codemirror_mode": {
    "name": "ipython",
    "version": 3
   },
   "file_extension": ".py",
   "mimetype": "text/x-python",
   "name": "python",
   "nbconvert_exporter": "python",
   "pygments_lexer": "ipython3",
   "version": "3.11.8"
  }
 },
 "nbformat": 4,
 "nbformat_minor": 2
}
